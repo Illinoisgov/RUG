{
 "cells": [
  {
   "cell_type": "markdown",
   "metadata": {},
   "source": [
    "# Exploratory Data Analysis \n",
    "Resource:https://livebook.datascienceheroes.com/exploratory-data-analysis.html#profiling"
   ]
  },
  {
   "cell_type": "markdown",
   "metadata": {
    "collapsed": true
   },
   "source": [
    "## Table of Contents\n",
    "1.1 [Profiling, The voice of the numbers](#Profiling,-The-voice-of-the-numbers)    \n",
    "- 1.1.1 [Dataset health status](#Dataset-health-status)  \n",
    "- 1.1.1.1 [Checking missing values, zeroes, data type, and unique values](#Checking-missing-values,-zeroes,-data-type,-and-unique-values)  \n",
    "- 1.1.1.2 [Why are these metrics important?](#Why-are-these-metrics-important?)  \n",
    "- 1.1.1.3 [Filtering unwanted cases](#Filtering-unwanted-cases)  \n",
    "- 1.1.1.4 [Going deep into these topics](#Going-deep-into-these-topics)  \n",
    "- 1.1.1.5 [Getting other common statistics: total rows, total columns and column names:](#Getting-other-common-statistics:-total-rows,-total-columns-and-column-names:)  \n",
    "\n",
    "1.2 [Profiling categorical variables](#Profiling-categorical-variables)  "
   ]
  },
  {
   "cell_type": "markdown",
   "metadata": {},
   "source": [
    "## Profiling, The voice of the numbers\n",
    "- Back to [Table of Contents](#Table-of-Contents)  \n",
    "\n",
    " __“The voice of the numbers” – a metaphor by Eduardo Galeano. Writer and novelist.__\n",
    "\n",
    "The data we explore could be like Egyptian hieroglyphs without a correct interpretation. Profiling is the very first step in a series of iterative stages in the pursuit of finding what the data want to tell us, if we are patient enough to listen.\n",
    "\n",
    "This chapter will cover, with a few functions, a complete data profiling. This should be the entry step in a data project, where we start by knowing the correct data types and exploring distributions in numerical and categorical variables.\n",
    "\n",
    "It also focuses on the extraction of semantic conclusions, which is useful when writing a report for non-technical people.\n",
    "\n",
    "**What are we going to review in this chapter?**\n",
    "\n",
    "- **Dataset health status:**\n",
    "    - Getting metrics like total rows, columns, data types, zeros, and missing values  \n",
    "    - How each of the previous items impacts on different analysis  \n",
    "    - How to quickly filter and operate on (and with) them, to clean the data  \n",
    "- **Univariate analysis in categorical variable:** \n",
    "    - Frequency, percentage, cumulative value, and colorful plots  \n",
    "- **Univariate analysis with numerical variables:**  \n",
    "    - Percentile, dispersion, standard deviation, mean, top and bottom values  \n",
    "    - Percentile vs. quantile vs. quartile  \n",
    "    - Kurtosis, skewness, inter-quartile range, variation coefficient  \n",
    "    - Plotting distributions  \n",
    "    - Complete case study based on “Data World”, data preparation, and data analysis  \n",
    "\n",
    "\n",
    "Functions summary review in the chapter:\n",
    "\n",
    "- `df_status(data)`: Profiling dataset structure\n",
    "- `describe(data)`: Numerical and categorical profiling (quantitative)  \n",
    "- `freq(data)`: Categorical profiling (quantitative and plot).  \n",
    "- `profiling_num(data)`: Profiling for numerical variables (quantitative)  \n",
    "- `plot_num(data)`: Profiling for numerical variables (plots)  \n",
    "\n",
    "Note: `describe` is in the `Hmisc` package while remaining functions are in funModeling."
   ]
  },
  {
   "cell_type": "markdown",
   "metadata": {},
   "source": [
    "## Dataset health status\n",
    "- Back to [Table of Contents](#Table-of-Contents)  \n",
    "The quantity of zeros, NA, Inf, unique values as well as the data type may lead to a good or bad model. Here’s an approach to cover the very first step in data modeling.\n",
    "\n",
    "First, we load the `funModeling` and `dplyr` libraries."
   ]
  },
  {
   "cell_type": "code",
   "execution_count": null,
   "metadata": {
    "scrolled": false
   },
   "outputs": [],
   "source": [
    "# Loading funModeling!\n",
    "library(funModeling)\n",
    "library(dplyr)\n",
    "data(heart_disease)"
   ]
  },
  {
   "cell_type": "markdown",
   "metadata": {},
   "source": [
    "### Checking missing values, zeroes, data type, and unique values\n",
    "- Back to [Table of Contents](#Table-of-Contents)  \n",
    "\n",
    "Probably one of the first steps, when we get a new dataset to analyze, is to know if there are missing values (`NA` in **R**) and the data type.\n",
    "\n",
    "The `df_status` function coming in `funModeling` can help us by showing these numbers in relative and percentage values. It also retrieves the infinite and zeros statistics."
   ]
  },
  {
   "cell_type": "code",
   "execution_count": 2,
   "metadata": {},
   "outputs": [
    {
     "name": "stdout",
     "output_type": "stream",
     "text": [
      "                 variable q_zeros p_zeros q_na p_na q_inf p_inf    type unique\n",
      "1                     age       0    0.00    0 0.00     0     0 integer     41\n",
      "2                  gender       0    0.00    0 0.00     0     0  factor      2\n",
      "3              chest_pain       0    0.00    0 0.00     0     0  factor      4\n",
      "4  resting_blood_pressure       0    0.00    0 0.00     0     0 integer     50\n",
      "5       serum_cholestoral       0    0.00    0 0.00     0     0 integer    152\n",
      "6     fasting_blood_sugar     258   85.15    0 0.00     0     0  factor      2\n",
      "7         resting_electro     151   49.83    0 0.00     0     0  factor      3\n",
      "8          max_heart_rate       0    0.00    0 0.00     0     0 integer     91\n",
      "9             exer_angina     204   67.33    0 0.00     0     0 integer      2\n",
      "10                oldpeak      99   32.67    0 0.00     0     0 numeric     40\n",
      "11                  slope       0    0.00    0 0.00     0     0 integer      3\n",
      "12      num_vessels_flour     176   58.09    4 1.32     0     0 integer      4\n",
      "13                   thal       0    0.00    2 0.66     0     0  factor      3\n",
      "14 heart_disease_severity     164   54.13    0 0.00     0     0 integer      5\n",
      "15           exter_angina     204   67.33    0 0.00     0     0  factor      2\n",
      "16      has_heart_disease       0    0.00    0 0.00     0     0  factor      2\n"
     ]
    }
   ],
   "source": [
    "# Profiling the data input\n",
    "df_status(heart_disease)"
   ]
  },
  {
   "cell_type": "markdown",
   "metadata": {},
   "source": [
    "### Why are these metrics important?\n",
    "- Back to [Table of Contents](#Table-of-Contents)  \n",
    "  \n",
    "- **Zeros**: Variables with **lots of zeros** may not be useful for modeling and, in some cases, they may dramatically bias the model.  \n",
    "- **NA**: Several models automatically exclude rows with NA (**random forest** for example). As a result, the final model can be biased due to several missing rows because of only one variable. For example, if the data contains only one out of 100 variables with 90% of NAs, the model will be training with only 10% of the original rows.  \n",
    "- **Inf**: Infinite values may lead to an unexpected behavior in some functions in R.  \n",
    "- **Type**: Some variables are encoded as numbers, but they are codes or categories and the models **don’t handle them** in the same way.\n",
    "- **Unique**: Factor/categorical variables with a high number of different values (~30) tend to do overfitting if the categories have low cardinality (**decision trees**, for example)."
   ]
  },
  {
   "cell_type": "markdown",
   "metadata": {},
   "source": [
    "### Filtering unwanted cases\n",
    "- Back to [Table of Contents](#Table-of-Contents)   \n",
    "\n",
    "The function `df_status` takes a data frame and returns a *status table* that can help us quickly remove features (or variables) based on all the metrics described in the last section. For example:\n",
    "\n",
    "**Removing variables with a *high number* of zeros**"
   ]
  },
  {
   "cell_type": "code",
   "execution_count": 3,
   "metadata": {},
   "outputs": [
    {
     "data": {
      "text/html": [
       "<ol class=list-inline>\n",
       "\t<li>'fasting_blood_sugar'</li>\n",
       "\t<li>'exer_angina'</li>\n",
       "\t<li>'exter_angina'</li>\n",
       "</ol>\n"
      ],
      "text/latex": [
       "\\begin{enumerate*}\n",
       "\\item 'fasting\\_blood\\_sugar'\n",
       "\\item 'exer\\_angina'\n",
       "\\item 'exter\\_angina'\n",
       "\\end{enumerate*}\n"
      ],
      "text/markdown": [
       "1. 'fasting_blood_sugar'\n",
       "2. 'exer_angina'\n",
       "3. 'exter_angina'\n",
       "\n",
       "\n"
      ],
      "text/plain": [
       "[1] \"fasting_blood_sugar\" \"exer_angina\"         \"exter_angina\"       "
      ]
     },
     "metadata": {},
     "output_type": "display_data"
    }
   ],
   "source": [
    "# Profiling the Data Input\n",
    "my_data_status=df_status(heart_disease, print_results = F)\n",
    "\n",
    "# Removing variables with 60% of zero values\n",
    "vars_to_remove=filter(my_data_status, p_zeros > 60)  %>% .$variable\n",
    "vars_to_remove"
   ]
  },
  {
   "cell_type": "code",
   "execution_count": 4,
   "metadata": {
    "collapsed": true
   },
   "outputs": [],
   "source": [
    "# Keeping all columns except the ones present in 'vars_to_remove' vector\n",
    "heart_disease_2=select(heart_disease, -one_of(vars_to_remove))"
   ]
  },
  {
   "cell_type": "markdown",
   "metadata": {},
   "source": [
    "#### Ordering data by percentage of zeros"
   ]
  },
  {
   "cell_type": "code",
   "execution_count": 5,
   "metadata": {
    "scrolled": true
   },
   "outputs": [
    {
     "data": {
      "text/html": [
       "<table>\n",
       "<thead><tr><th scope=col>variable</th><th scope=col>q_zeros</th><th scope=col>p_zeros</th></tr></thead>\n",
       "<tbody>\n",
       "\t<tr><td>fasting_blood_sugar   </td><td>258                   </td><td>85.15                 </td></tr>\n",
       "\t<tr><td>exer_angina           </td><td>204                   </td><td>67.33                 </td></tr>\n",
       "\t<tr><td>exter_angina          </td><td>204                   </td><td>67.33                 </td></tr>\n",
       "\t<tr><td>num_vessels_flour     </td><td>176                   </td><td>58.09                 </td></tr>\n",
       "\t<tr><td>heart_disease_severity</td><td>164                   </td><td>54.13                 </td></tr>\n",
       "\t<tr><td>resting_electro       </td><td>151                   </td><td>49.83                 </td></tr>\n",
       "\t<tr><td>oldpeak               </td><td> 99                   </td><td>32.67                 </td></tr>\n",
       "\t<tr><td>age                   </td><td>  0                   </td><td> 0.00                 </td></tr>\n",
       "\t<tr><td>gender                </td><td>  0                   </td><td> 0.00                 </td></tr>\n",
       "\t<tr><td>chest_pain            </td><td>  0                   </td><td> 0.00                 </td></tr>\n",
       "\t<tr><td>resting_blood_pressure</td><td>  0                   </td><td> 0.00                 </td></tr>\n",
       "\t<tr><td>serum_cholestoral     </td><td>  0                   </td><td> 0.00                 </td></tr>\n",
       "\t<tr><td>max_heart_rate        </td><td>  0                   </td><td> 0.00                 </td></tr>\n",
       "\t<tr><td>slope                 </td><td>  0                   </td><td> 0.00                 </td></tr>\n",
       "\t<tr><td>thal                  </td><td>  0                   </td><td> 0.00                 </td></tr>\n",
       "\t<tr><td>has_heart_disease     </td><td>  0                   </td><td> 0.00                 </td></tr>\n",
       "</tbody>\n",
       "</table>\n"
      ],
      "text/latex": [
       "\\begin{tabular}{r|lll}\n",
       " variable & q\\_zeros & p\\_zeros\\\\\n",
       "\\hline\n",
       "\t fasting\\_blood\\_sugar    & 258                        & 85.15                     \\\\\n",
       "\t exer\\_angina            & 204                      & 67.33                   \\\\\n",
       "\t exter\\_angina           & 204                      & 67.33                   \\\\\n",
       "\t num\\_vessels\\_flour      & 176                        & 58.09                     \\\\\n",
       "\t heart\\_disease\\_severity & 164                        & 54.13                     \\\\\n",
       "\t resting\\_electro        & 151                      & 49.83                   \\\\\n",
       "\t oldpeak                &  99                    & 32.67                 \\\\\n",
       "\t age                    &   0                    &  0.00                 \\\\\n",
       "\t gender                 &   0                    &  0.00                 \\\\\n",
       "\t chest\\_pain             &   0                      &  0.00                   \\\\\n",
       "\t resting\\_blood\\_pressure &   0                        &  0.00                     \\\\\n",
       "\t serum\\_cholestoral      &   0                      &  0.00                   \\\\\n",
       "\t max\\_heart\\_rate         &   0                        &  0.00                     \\\\\n",
       "\t slope                  &   0                    &  0.00                 \\\\\n",
       "\t thal                   &   0                    &  0.00                 \\\\\n",
       "\t has\\_heart\\_disease      &   0                        &  0.00                     \\\\\n",
       "\\end{tabular}\n"
      ],
      "text/markdown": [
       "\n",
       "variable | q_zeros | p_zeros | \n",
       "|---|---|---|---|---|---|---|---|---|---|---|---|---|---|---|---|\n",
       "| fasting_blood_sugar    | 258                    | 85.15                  | \n",
       "| exer_angina            | 204                    | 67.33                  | \n",
       "| exter_angina           | 204                    | 67.33                  | \n",
       "| num_vessels_flour      | 176                    | 58.09                  | \n",
       "| heart_disease_severity | 164                    | 54.13                  | \n",
       "| resting_electro        | 151                    | 49.83                  | \n",
       "| oldpeak                |  99                    | 32.67                  | \n",
       "| age                    |   0                    |  0.00                  | \n",
       "| gender                 |   0                    |  0.00                  | \n",
       "| chest_pain             |   0                    |  0.00                  | \n",
       "| resting_blood_pressure |   0                    |  0.00                  | \n",
       "| serum_cholestoral      |   0                    |  0.00                  | \n",
       "| max_heart_rate         |   0                    |  0.00                  | \n",
       "| slope                  |   0                    |  0.00                  | \n",
       "| thal                   |   0                    |  0.00                  | \n",
       "| has_heart_disease      |   0                    |  0.00                  | \n",
       "\n",
       "\n"
      ],
      "text/plain": [
       "   variable               q_zeros p_zeros\n",
       "1  fasting_blood_sugar    258     85.15  \n",
       "2  exer_angina            204     67.33  \n",
       "3  exter_angina           204     67.33  \n",
       "4  num_vessels_flour      176     58.09  \n",
       "5  heart_disease_severity 164     54.13  \n",
       "6  resting_electro        151     49.83  \n",
       "7  oldpeak                 99     32.67  \n",
       "8  age                      0      0.00  \n",
       "9  gender                   0      0.00  \n",
       "10 chest_pain               0      0.00  \n",
       "11 resting_blood_pressure   0      0.00  \n",
       "12 serum_cholestoral        0      0.00  \n",
       "13 max_heart_rate           0      0.00  \n",
       "14 slope                    0      0.00  \n",
       "15 thal                     0      0.00  \n",
       "16 has_heart_disease        0      0.00  "
      ]
     },
     "metadata": {},
     "output_type": "display_data"
    }
   ],
   "source": [
    "arrange(my_data_status, -p_zeros) %>% select(variable, q_zeros, p_zeros)"
   ]
  },
  {
   "cell_type": "markdown",
   "metadata": {},
   "source": [
    "The same reasoning applies when we want to remove (or keep) those variables above or below a certain threshold. Please check the missing values chapter to get more information about the implications when dealing with variables containing missing values."
   ]
  },
  {
   "cell_type": "markdown",
   "metadata": {},
   "source": [
    "### Going deep into these topics\n",
    "- Back to [Table of Contents](#Table-of-Contents)  \n",
    "\n",
    "Values returned by `df_status` are deeply covered in other chapters:\n",
    "\n",
    "- **Missing values** (NA) treatment, analysis, and imputation are deeply covered in the [Missing Data](https://livebook.datascienceheroes.com/data-preparation.html#missing_data) chapter.  \n",
    "- **Data type**, its conversions and implications when handling different data types and more are covered in the [Data Types](https://livebook.datascienceheroes.com/data-preparation.html#data_types) chapter.  \n",
    "- A high number of **unique values** is synonymous for high-cardinality variables. This situation is studied in both chapters:  \n",
    "    - [High Cardinality Variable in Descriptive Stats](https://livebook.datascienceheroes.com/data-preparation.html#high_cardinality_descriptive_stats)\n",
    "    - [High Cardinality Variable in Predictive Modeling](https://livebook.datascienceheroes.com/data-preparation.html#high_cardinality_predictive_modeling)"
   ]
  },
  {
   "cell_type": "markdown",
   "metadata": {},
   "source": [
    "### Getting other common statistics: total rows, total columns and column names:\n",
    "- Back to [Table of Contents](#Table-of-Contents) "
   ]
  },
  {
   "cell_type": "code",
   "execution_count": 6,
   "metadata": {},
   "outputs": [
    {
     "data": {
      "text/html": [
       "303"
      ],
      "text/latex": [
       "303"
      ],
      "text/markdown": [
       "303"
      ],
      "text/plain": [
       "[1] 303"
      ]
     },
     "metadata": {},
     "output_type": "display_data"
    }
   ],
   "source": [
    "# Total rows\n",
    "nrow(heart_disease)"
   ]
  },
  {
   "cell_type": "code",
   "execution_count": 7,
   "metadata": {},
   "outputs": [
    {
     "data": {
      "text/html": [
       "16"
      ],
      "text/latex": [
       "16"
      ],
      "text/markdown": [
       "16"
      ],
      "text/plain": [
       "[1] 16"
      ]
     },
     "metadata": {},
     "output_type": "display_data"
    }
   ],
   "source": [
    "# Total columns\n",
    "ncol(heart_disease)"
   ]
  },
  {
   "cell_type": "code",
   "execution_count": 8,
   "metadata": {},
   "outputs": [
    {
     "data": {
      "text/html": [
       "<ol class=list-inline>\n",
       "\t<li>'age'</li>\n",
       "\t<li>'gender'</li>\n",
       "\t<li>'chest_pain'</li>\n",
       "\t<li>'resting_blood_pressure'</li>\n",
       "\t<li>'serum_cholestoral'</li>\n",
       "\t<li>'fasting_blood_sugar'</li>\n",
       "\t<li>'resting_electro'</li>\n",
       "\t<li>'max_heart_rate'</li>\n",
       "\t<li>'exer_angina'</li>\n",
       "\t<li>'oldpeak'</li>\n",
       "\t<li>'slope'</li>\n",
       "\t<li>'num_vessels_flour'</li>\n",
       "\t<li>'thal'</li>\n",
       "\t<li>'heart_disease_severity'</li>\n",
       "\t<li>'exter_angina'</li>\n",
       "\t<li>'has_heart_disease'</li>\n",
       "</ol>\n"
      ],
      "text/latex": [
       "\\begin{enumerate*}\n",
       "\\item 'age'\n",
       "\\item 'gender'\n",
       "\\item 'chest\\_pain'\n",
       "\\item 'resting\\_blood\\_pressure'\n",
       "\\item 'serum\\_cholestoral'\n",
       "\\item 'fasting\\_blood\\_sugar'\n",
       "\\item 'resting\\_electro'\n",
       "\\item 'max\\_heart\\_rate'\n",
       "\\item 'exer\\_angina'\n",
       "\\item 'oldpeak'\n",
       "\\item 'slope'\n",
       "\\item 'num\\_vessels\\_flour'\n",
       "\\item 'thal'\n",
       "\\item 'heart\\_disease\\_severity'\n",
       "\\item 'exter\\_angina'\n",
       "\\item 'has\\_heart\\_disease'\n",
       "\\end{enumerate*}\n"
      ],
      "text/markdown": [
       "1. 'age'\n",
       "2. 'gender'\n",
       "3. 'chest_pain'\n",
       "4. 'resting_blood_pressure'\n",
       "5. 'serum_cholestoral'\n",
       "6. 'fasting_blood_sugar'\n",
       "7. 'resting_electro'\n",
       "8. 'max_heart_rate'\n",
       "9. 'exer_angina'\n",
       "10. 'oldpeak'\n",
       "11. 'slope'\n",
       "12. 'num_vessels_flour'\n",
       "13. 'thal'\n",
       "14. 'heart_disease_severity'\n",
       "15. 'exter_angina'\n",
       "16. 'has_heart_disease'\n",
       "\n",
       "\n"
      ],
      "text/plain": [
       " [1] \"age\"                    \"gender\"                 \"chest_pain\"            \n",
       " [4] \"resting_blood_pressure\" \"serum_cholestoral\"      \"fasting_blood_sugar\"   \n",
       " [7] \"resting_electro\"        \"max_heart_rate\"         \"exer_angina\"           \n",
       "[10] \"oldpeak\"                \"slope\"                  \"num_vessels_flour\"     \n",
       "[13] \"thal\"                   \"heart_disease_severity\" \"exter_angina\"          \n",
       "[16] \"has_heart_disease\"     "
      ]
     },
     "metadata": {},
     "output_type": "display_data"
    }
   ],
   "source": [
    "# Column names\n",
    "colnames(heart_disease)"
   ]
  },
  {
   "cell_type": "markdown",
   "metadata": {},
   "source": [
    "## Profiling categorical variables\n",
    "- Back to [Table of Contents](#Table-of-Contents)  \n",
    "\n",
    "*Make sure you have the latest ‘funModeling’ version (>= 1.6).*\n",
    "\n",
    "Frequency or distribution analysis is made simple by the `freq` function. This retrieves the distribution in a table and a plot (by default) and shows the distribution of absolute and relative numbers.\n",
    "\n",
    "If you want the distribution for two variables:"
   ]
  },
  {
   "cell_type": "code",
   "execution_count": 9,
   "metadata": {},
   "outputs": [
    {
     "name": "stdout",
     "output_type": "stream",
     "text": [
      "  thal frequency percentage cumulative_perc\n",
      "1    3       166      54.79           54.79\n",
      "2    7       117      38.61           93.40\n",
      "3    6        18       5.94           99.34\n",
      "4 <NA>         2       0.66          100.00\n",
      "\n"
     ]
    },
    {
     "data": {
      "image/png": "[encoded data removed]",
      "text/plain": [
       "plot without title"
      ]
     },
     "metadata": {},
     "output_type": "display_data"
    },
    {
     "name": "stdout",
     "output_type": "stream",
     "text": [
      "  chest_pain frequency percentage cumulative_perc\n",
      "1          4       144      47.52           47.52\n",
      "2          3        86      28.38           75.90\n",
      "3          2        50      16.50           92.40\n",
      "4          1        23       7.59          100.00\n",
      "\n"
     ]
    },
    {
     "data": {
      "text/html": [
       "'Variables processed: thal, chest_pain'"
      ],
      "text/latex": [
       "'Variables processed: thal, chest\\_pain'"
      ],
      "text/markdown": [
       "'Variables processed: thal, chest_pain'"
      ],
      "text/plain": [
       "[1] \"Variables processed: thal, chest_pain\""
      ]
     },
     "metadata": {},
     "output_type": "display_data"
    },
    {
     "data": {
      "image/png": "[encoded data removed]",
      "text/plain": [
       "plot without title"
      ]
     },
     "metadata": {},
     "output_type": "display_data"
    }
   ],
   "source": [
    "freq(data=heart_disease, input = c('thal','chest_pain'))"
   ]
  },
  {
   "cell_type": "markdown",
   "metadata": {},
   "source": [
    "As well as in the remaining funModeling functions, if input is missing, then it will run for all factor or character variables present in a given data frame:"
   ]
  },
  {
   "cell_type": "markdown",
   "metadata": {},
   "source": [
    "```R\n",
    "freq(data=heart_disease)\n",
    "```"
   ]
  },
  {
   "cell_type": "markdown",
   "metadata": {},
   "source": [
    "If we only want to print the table excluding the `plot`, then we set the plot parameter to `FALSE`. The freq example can also handle a **single variable** as an input. By *default*, `NA` values **are considered** in both the table and the plot. If it is needed to exclude the `NA` then set `na.rm = FALSE`. Both examples in the following line:"
   ]
  },
  {
   "cell_type": "markdown",
   "metadata": {},
   "source": [
    "```R\n",
    "freq(data=heart_disease$thal, plot = FALSE, na.rm = FALSE)\n",
    "```"
   ]
  },
  {
   "cell_type": "markdown",
   "metadata": {},
   "source": [
    "If only one variable is provided, then `freq` returns the printed table; thus, it is easy to perform some calculations based on the variables it provides.\n",
    "\n",
    "- For example, to print the categories that represent most of the 80% of the share (based on `cumulative_perc < 80`).  \n",
    "- To get the categories belonging to the **long tail**, i.e., filtering by `percentage < 1` by retrieving those categories appearing less than 1% of the time.  \n",
    "\n",
    "In addition, as with the other plot functions in the package, if there is a need to export plots, then add the path_out parameter, which will create the folder if it’s not yet created."
   ]
  },
  {
   "cell_type": "markdown",
   "metadata": {},
   "source": [
    "```R\n",
    "freq(data=heart_disease, path_out='my_folder')\n",
    "```"
   ]
  }
 ],
 "metadata": {
  "kernelspec": {
   "display_name": "R",
   "language": "R",
   "name": "ir"
  },
  "language_info": {
   "codemirror_mode": "r",
   "file_extension": ".r",
   "mimetype": "text/x-r-source",
   "name": "R",
   "pygments_lexer": "r",
   "version": "3.3.2"
  }
 },
 "nbformat": 4,
 "nbformat_minor": 2
}
