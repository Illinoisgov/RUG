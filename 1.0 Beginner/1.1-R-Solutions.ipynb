{
 "cells": [
  {
   "cell_type": "markdown",
   "metadata": {},
   "source": [
    "# Intro to R  \n",
    "Exercises based on DataCamp's Introduction to R course\n",
    "https://www.datacamp.com/courses/free-introduction-to-r"
   ]
  },
  {
   "cell_type": "markdown",
   "metadata": {},
   "source": [
    "## Table of Contents\n",
    "1. [Create your first vector](#Exercise-1---Create-a-vector)  \n",
    "2. [Run Calculations on a vector](#Exercise-2---Run-calculations-on-your-vectors)\n",
    "3. [Calculate total winnings](#Exercise-3---Calculate-total-winnings)\n",
    "4. [Compare total wininnings](#Exercise-4---Compare-total-winnings)\n",
    "5. [Vector selection](#Exercise-5---Vector-selection)\n",
    "6. [Vector selection midweek](#Exercise-6---Vector-selection-midweek)\n",
    "7. [Vector select midweek with two indexes](#Exercise-7---Vector-select-midweek-with-two-indexes)"
   ]
  },
  {
   "cell_type": "markdown",
   "metadata": {},
   "source": [
    "## Exercise 1 - Create a vector\n",
    "- Back to [Table of Contents](#Table-of-Contents)  \n",
    "- Complete the code such that **boolean_vector** contains the three elements: **TRUE**, **FALSE** and **TRUE** (in that order). \n",
    "- Print out **boolean_vector**"
   ]
  },
  {
   "cell_type": "code",
   "execution_count": 2,
   "metadata": {
    "scrolled": false
   },
   "outputs": [
    {
     "data": {
      "text/html": [
       "<ol class=list-inline>\n",
       "\t<li>TRUE</li>\n",
       "\t<li>FALSE</li>\n",
       "\t<li>TRUE</li>\n",
       "</ol>\n"
      ],
      "text/latex": [
       "\\begin{enumerate*}\n",
       "\\item TRUE\n",
       "\\item FALSE\n",
       "\\item TRUE\n",
       "\\end{enumerate*}\n"
      ],
      "text/markdown": [
       "1. TRUE\n",
       "2. FALSE\n",
       "3. TRUE\n",
       "\n",
       "\n"
      ],
      "text/plain": [
       "[1]  TRUE FALSE  TRUE"
      ]
     },
     "metadata": {},
     "output_type": "display_data"
    }
   ],
   "source": [
    "numeric_vector <- c(1, 10, 49) \n",
    "character_vector <- c(\"a\", \"b\", \"c\") \n",
    "\n",
    "# Complete the code for boolean_vector \n",
    "boolean_vector <- c(TRUE, FALSE, TRUE) \n",
    "\n",
    "# Print boolean_vector\n",
    "boolean_vector"
   ]
  },
  {
   "cell_type": "markdown",
   "metadata": {},
   "source": [
    "**Expected output:**  \n",
    "TRUE FALSE TRUE"
   ]
  },
  {
   "cell_type": "markdown",
   "metadata": {},
   "source": [
    "## Exercise 2 - Run calculations on your vectors\n",
    "- Back to [Table of Contents](#Table-of-Contents)\n",
    "- Take the sum of the variables **A_vector** and **B_vector** and it assign to **total_vector**. \n",
    "- Inspect the result by printing out **total_vector**. "
   ]
  },
  {
   "cell_type": "code",
   "execution_count": 12,
   "metadata": {},
   "outputs": [
    {
     "data": {
      "text/html": [
       "<ol class=list-inline>\n",
       "\t<li>5</li>\n",
       "\t<li>7</li>\n",
       "\t<li>9</li>\n",
       "</ol>\n"
      ],
      "text/latex": [
       "\\begin{enumerate*}\n",
       "\\item 5\n",
       "\\item 7\n",
       "\\item 9\n",
       "\\end{enumerate*}\n"
      ],
      "text/markdown": [
       "1. 5\n",
       "2. 7\n",
       "3. 9\n",
       "\n",
       "\n"
      ],
      "text/plain": [
       "[1] 5 7 9"
      ]
     },
     "metadata": {},
     "output_type": "display_data"
    }
   ],
   "source": [
    "A_vector <- c(1, 2, 3) \n",
    "B_vector <- c(4, 5, 6) \n",
    "\n",
    "# Take the sum of A_vector and B_vector \n",
    "total_vector <- A_vector + B_vector \n",
    "\n",
    "# Print out total_vector \n",
    "total_vector "
   ]
  },
  {
   "cell_type": "markdown",
   "metadata": {},
   "source": [
    "**Expected output:**  \n",
    "5  7  9"
   ]
  },
  {
   "cell_type": "markdown",
   "metadata": {},
   "source": [
    "## Exercise 3 - Calculate total winnings  \n",
    "- Back to [Table of Contents](#Table-of-Contents)\n",
    "- Assign to the variable **total_daily** how much you won or lost on each day in total (poker and roulette combined)\n",
    "- Print out **total_daily**"
   ]
  },
  {
   "cell_type": "code",
   "execution_count": 13,
   "metadata": {},
   "outputs": [
    {
     "data": {
      "text/html": [
       "<ol class=list-inline>\n",
       "\t<li>116</li>\n",
       "\t<li>-100</li>\n",
       "\t<li>120</li>\n",
       "\t<li>-470</li>\n",
       "\t<li>250</li>\n",
       "</ol>\n"
      ],
      "text/latex": [
       "\\begin{enumerate*}\n",
       "\\item 116\n",
       "\\item -100\n",
       "\\item 120\n",
       "\\item -470\n",
       "\\item 250\n",
       "\\end{enumerate*}\n"
      ],
      "text/markdown": [
       "1. 116\n",
       "2. -100\n",
       "3. 120\n",
       "4. -470\n",
       "5. 250\n",
       "\n",
       "\n"
      ],
      "text/plain": [
       "[1]  116 -100  120 -470  250"
      ]
     },
     "metadata": {},
     "output_type": "display_data"
    }
   ],
   "source": [
    "# Poker and roulette winnings from Monday to Friday: \n",
    "poker_vector <- c(140, -50, 20, -120, 240) \n",
    "roulette_vector <- c(-24, -50, 100, -350, 10) \n",
    "\n",
    "# Assign to total_daily how much you won/lost on each day \n",
    "total_daily <- poker_vector + roulette_vector\n",
    "\n",
    "# Print out total_daily\n",
    "total_daily"
   ]
  },
  {
   "cell_type": "markdown",
   "metadata": {},
   "source": [
    "**Expected output:**  \n",
    "116 -100 120 -470 250"
   ]
  },
  {
   "cell_type": "markdown",
   "metadata": {},
   "source": [
    "## Exercise 4 - Compare total winnings  \n",
    "- Back to [Table of Contents](#Table-of-Contents)\n",
    "- Calculate **total_poker** and **total_roulette** as in the previous exercise. Use the **sum()** function twice. \n",
    "- Check if your total gains in poker are higher than for roulette by using a comparison. Simply print out the result of this comparison. What do you conclude, should you focus on roulette or on poker? "
   ]
  },
  {
   "cell_type": "code",
   "execution_count": 14,
   "metadata": {},
   "outputs": [
    {
     "data": {
      "text/html": [
       "TRUE"
      ],
      "text/latex": [
       "TRUE"
      ],
      "text/markdown": [
       "TRUE"
      ],
      "text/plain": [
       "[1] TRUE"
      ]
     },
     "metadata": {},
     "output_type": "display_data"
    }
   ],
   "source": [
    "# Poker and roulette winnings from Monday to Friday: \n",
    "poker_vector <- c(140, -50, 20, -120, 240) \n",
    "roulette_vector <- c(-24, -50, 100, -350, 10) \n",
    "\n",
    "# Calculate total gains for poker and roulette \n",
    "total_poker <- sum(poker_vector) \n",
    "total_roulette <- sum(roulette_vector) \n",
    "\n",
    "# Check if you realized higher total gains in poker than in roulette  \n",
    "total_poker > total_roulette"
   ]
  },
  {
   "cell_type": "markdown",
   "metadata": {},
   "source": [
    "**Expected output:**  \n",
    "TRUE"
   ]
  },
  {
   "cell_type": "markdown",
   "metadata": {},
   "source": [
    "## Exercise 5 - Vector selection  \n",
    "- Back to [Table of Contents](#Table-of-Contents)\n",
    "- Assign the poker results of Wednesday to the variable **poker_wednesday**. \n",
    "- Assign the roulette results of Monday to the variable **roulette_monday**.\n",
    "- Print out **poker_wednesday** and **roulette_monday**."
   ]
  },
  {
   "cell_type": "code",
   "execution_count": 1,
   "metadata": {
    "scrolled": true
   },
   "outputs": [
    {
     "data": {
      "text/html": [
       "<strong>Wednesday:</strong> 20"
      ],
      "text/latex": [
       "\\textbf{Wednesday:} 20"
      ],
      "text/markdown": [
       "**Wednesday:** 20"
      ],
      "text/plain": [
       "Wednesday \n",
       "       20 "
      ]
     },
     "metadata": {},
     "output_type": "display_data"
    },
    {
     "data": {
      "text/html": [
       "<strong>Monday:</strong> -24"
      ],
      "text/latex": [
       "\\textbf{Monday:} -24"
      ],
      "text/markdown": [
       "**Monday:** -24"
      ],
      "text/plain": [
       "Monday \n",
       "   -24 "
      ]
     },
     "metadata": {},
     "output_type": "display_data"
    }
   ],
   "source": [
    "# Poker and roulette winnings from Monday to Friday: \n",
    "poker_vector <- c(140, -50, 20, -120, 240) \n",
    "roulette_vector <- c(-24, -50, 100, -350, 10) \n",
    "\n",
    "days_vector <- c(\"Monday\", \"Tuesday\", \"Wednesday\", \"Thursday\", \"Friday\") \n",
    "\n",
    "names(poker_vector) <- days_vector \n",
    "names(roulette_vector) <- days_vector \n",
    "\n",
    "# Define a new variables based on a selection \n",
    "poker_wednesday <- poker_vector[3] \n",
    "roulette_monday <- roulette_vector[1]\n",
    "\n",
    "# Print out poker_wednesday\n",
    "poker_wednesday\n",
    "roulette_monday"
   ]
  },
  {
   "cell_type": "markdown",
   "metadata": {},
   "source": [
    "**Expected output:**  \n",
    "**Wednesday**: 20  \n",
    "\n",
    "**Monday**: -24"
   ]
  },
  {
   "cell_type": "markdown",
   "metadata": {
    "collapsed": true
   },
   "source": [
    "## Exercise 6 - Vector selection midweek  \n",
    "- Back to [Table of Contents](#Table-of-Contents)\n",
    "- Assign the poker results of Tuesday, Wednesday and Thursday to the variable **poker_midweek**.  \n",
    "- Print out **poker_midweek**"
   ]
  },
  {
   "cell_type": "code",
   "execution_count": 2,
   "metadata": {
    "scrolled": true
   },
   "outputs": [
    {
     "data": {
      "text/html": [
       "<dl class=dl-horizontal>\n",
       "\t<dt>Tuesday</dt>\n",
       "\t\t<dd>-50</dd>\n",
       "\t<dt>Wednesday</dt>\n",
       "\t\t<dd>20</dd>\n",
       "\t<dt>Thursday</dt>\n",
       "\t\t<dd>-120</dd>\n",
       "</dl>\n"
      ],
      "text/latex": [
       "\\begin{description*}\n",
       "\\item[Tuesday] -50\n",
       "\\item[Wednesday] 20\n",
       "\\item[Thursday] -120\n",
       "\\end{description*}\n"
      ],
      "text/markdown": [
       "Tuesday\n",
       ":   -50Wednesday\n",
       ":   20Thursday\n",
       ":   -120\n",
       "\n"
      ],
      "text/plain": [
       "  Tuesday Wednesday  Thursday \n",
       "      -50        20      -120 "
      ]
     },
     "metadata": {},
     "output_type": "display_data"
    }
   ],
   "source": [
    "# Poker and roulette winnings from Monday to Friday: \n",
    "poker_vector <- c(140, -50, 20, -120, 240) \n",
    "roulette_vector <- c(-24, -50, 100, -350, 10) \n",
    "\n",
    "days_vector <- c(\"Monday\", \"Tuesday\", \"Wednesday\", \"Thursday\", \"Friday\") \n",
    "\n",
    "names(poker_vector) <- days_vector \n",
    "names(roulette_vector) <- days_vector \n",
    "\n",
    "# Define a new variable based on a selection \n",
    "poker_midweek <- poker_vector[c(2,3,4)] \n",
    "\n",
    "# Print out poker_midweek\n",
    "poker_midweek"
   ]
  },
  {
   "cell_type": "markdown",
   "metadata": {},
   "source": [
    "**Expected output:**  \n",
    "**Tuesday**  -50  \n",
    "**Wednesday**  20  \n",
    "**Thursday**  -120  "
   ]
  },
  {
   "cell_type": "markdown",
   "metadata": {},
   "source": [
    "## Exercise 7 - Vector select midweek with two indexes\n",
    "- Back to [Table of Contents](#Table-of-Contents)\n",
    "- Assign to **roulette_selection_vector** the roulette results from Tuesday up to Friday; make use of : if it makes things easier for you."
   ]
  },
  {
   "cell_type": "code",
   "execution_count": 1,
   "metadata": {
    "scrolled": false
   },
   "outputs": [
    {
     "data": {
      "text/html": [
       "<dl class=dl-horizontal>\n",
       "\t<dt>Monday</dt>\n",
       "\t\t<dd>-24</dd>\n",
       "\t<dt>Tuesday</dt>\n",
       "\t\t<dd>-50</dd>\n",
       "\t<dt>Wednesday</dt>\n",
       "\t\t<dd>100</dd>\n",
       "\t<dt>Thursday</dt>\n",
       "\t\t<dd>-350</dd>\n",
       "\t<dt>Friday</dt>\n",
       "\t\t<dd>10</dd>\n",
       "</dl>\n"
      ],
      "text/latex": [
       "\\begin{description*}\n",
       "\\item[Monday] -24\n",
       "\\item[Tuesday] -50\n",
       "\\item[Wednesday] 100\n",
       "\\item[Thursday] -350\n",
       "\\item[Friday] 10\n",
       "\\end{description*}\n"
      ],
      "text/markdown": [
       "Monday\n",
       ":   -24Tuesday\n",
       ":   -50Wednesday\n",
       ":   100Thursday\n",
       ":   -350Friday\n",
       ":   10\n",
       "\n"
      ],
      "text/plain": [
       "   Monday   Tuesday Wednesday  Thursday    Friday \n",
       "      -24       -50       100      -350        10 "
      ]
     },
     "metadata": {},
     "output_type": "display_data"
    }
   ],
   "source": [
    "# Poker and roulette winnings from Monday to Friday: \n",
    "poker_vector <- c(140, -50, 20, -120, 240) \n",
    "roulette_vector <- c(-24, -50, 100, -350, 10)\n",
    "\n",
    "days_vector <- c(\"Monday\", \"Tuesday\", \"Wednesday\", \"Thursday\", \"Friday\") \n",
    "\n",
    "names(poker_vector) <- days_vector \n",
    "names(roulette_vector) <- days_vector \n",
    "\n",
    "# Define a new variable based on a selection \n",
    "roulette_selection_vector <- roulette_vector[2:5] \n",
    "\n",
    "# Print out roulette\n",
    "roulette_vector"
   ]
  },
  {
   "cell_type": "markdown",
   "metadata": {},
   "source": [
    "**Expected output:**  \n",
    "**Monday**  \n",
    "-24  \n",
    "**Tuesday**  \n",
    "-50  \n",
    "**Wednesday**  \n",
    "100  \n",
    "**Thursday**  \n",
    "-350  \n",
    "**Friday**  \n",
    "10"
   ]
  },
  {
   "cell_type": "markdown",
   "metadata": {},
   "source": [
    "## Exercise 8\n",
    "- Back to [Table of Contents](#Table-of-Contents)\n",
    "- "
   ]
  },
  {
   "cell_type": "code",
   "execution_count": null,
   "metadata": {
    "collapsed": true
   },
   "outputs": [],
   "source": []
  },
  {
   "cell_type": "code",
   "execution_count": null,
   "metadata": {
    "collapsed": true
   },
   "outputs": [],
   "source": []
  },
  {
   "cell_type": "code",
   "execution_count": null,
   "metadata": {
    "collapsed": true
   },
   "outputs": [],
   "source": []
  }
 ],
 "metadata": {
  "celltoolbar": "Raw Cell Format",
  "kernelspec": {
   "display_name": "R",
   "language": "R",
   "name": "ir"
  },
  "language_info": {
   "codemirror_mode": "r",
   "file_extension": ".r",
   "mimetype": "text/x-r-source",
   "name": "R",
   "pygments_lexer": "r",
   "version": "3.3.2"
  }
 },
 "nbformat": 4,
 "nbformat_minor": 2
}
